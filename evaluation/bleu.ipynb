{
 "cells": [
  {
   "cell_type": "code",
   "execution_count": 5,
   "metadata": {},
   "outputs": [
    {
     "name": "stderr",
     "output_type": "stream",
     "text": [
      "/Users/anshulwadhawan/opt/anaconda3/envs/cenv/lib/python3.9/site-packages/tqdm/auto.py:21: TqdmWarning: IProgress not found. Please update jupyter and ipywidgets. See https://ipywidgets.readthedocs.io/en/stable/user_install.html\n",
      "  from .autonotebook import tqdm as notebook_tqdm\n"
     ]
    }
   ],
   "source": [
    "import pandas as pd\n",
    "import nltk.translate.bleu_score as bleu\n",
    "from datasets import load_dataset"
   ]
  },
  {
   "cell_type": "code",
   "execution_count": 7,
   "metadata": {},
   "outputs": [
    {
     "name": "stdout",
     "output_type": "stream",
     "text": [
      "Downloading and preparing dataset fleurs/af_za to /Users/anshulwadhawan/.cache/huggingface/datasets/google___fleurs/af_za/2.0.0/af82dbec419a815084fa63ebd5d5a9f24a6e9acdf9887b9e3b8c6bbd64e0b7ac...\n"
     ]
    },
    {
     "name": "stderr",
     "output_type": "stream",
     "text": [
      "Downloading data: 100%|██████████| 647M/647M [01:44<00:00, 6.18MB/s]\n",
      "Downloading data: 100%|██████████| 111M/111M [00:27<00:00, 3.98MB/s]t]\n",
      "Downloading data: 100%|██████████| 156M/156M [00:25<00:00, 6.16MB/s]] \n",
      "Downloading data files: 100%|██████████| 3/3 [02:40<00:00, 53.56s/it]\n",
      "Extracting data files: 100%|██████████| 3/3 [00:09<00:00,  3.02s/it]\n",
      "Downloading data: 100%|██████████| 595k/595k [00:00<00:00, 3.50MB/s]\n",
      "Downloading data: 100%|██████████| 108k/108k [00:00<00:00, 1.85MB/s]]\n",
      "Downloading data: 100%|██████████| 150k/150k [00:00<00:00, 1.92MB/s]]\n",
      "Downloading data files: 100%|██████████| 3/3 [00:01<00:00,  2.40it/s]\n",
      "                                                                    \r"
     ]
    },
    {
     "name": "stdout",
     "output_type": "stream",
     "text": [
      "Dataset fleurs downloaded and prepared to /Users/anshulwadhawan/.cache/huggingface/datasets/google___fleurs/af_za/2.0.0/af82dbec419a815084fa63ebd5d5a9f24a6e9acdf9887b9e3b8c6bbd64e0b7ac. Subsequent calls will reuse this data.\n"
     ]
    },
    {
     "name": "stderr",
     "output_type": "stream",
     "text": [
      "100%|██████████| 3/3 [00:00<00:00, 41.10it/s]\n"
     ]
    }
   ],
   "source": [
    "dataset = load_dataset(\"google/fleurs\", 'af_za')"
   ]
  },
  {
   "cell_type": "code",
   "execution_count": 9,
   "metadata": {},
   "outputs": [],
   "source": [
    "df = pd.DataFrame(dataset['train'])"
   ]
  },
  {
   "cell_type": "code",
   "execution_count": 11,
   "metadata": {},
   "outputs": [
    {
     "data": {
      "text/html": [
       "<div>\n",
       "<style scoped>\n",
       "    .dataframe tbody tr th:only-of-type {\n",
       "        vertical-align: middle;\n",
       "    }\n",
       "\n",
       "    .dataframe tbody tr th {\n",
       "        vertical-align: top;\n",
       "    }\n",
       "\n",
       "    .dataframe thead th {\n",
       "        text-align: right;\n",
       "    }\n",
       "</style>\n",
       "<table border=\"1\" class=\"dataframe\">\n",
       "  <thead>\n",
       "    <tr style=\"text-align: right;\">\n",
       "      <th></th>\n",
       "      <th>id</th>\n",
       "      <th>num_samples</th>\n",
       "      <th>path</th>\n",
       "      <th>audio</th>\n",
       "      <th>transcription</th>\n",
       "      <th>raw_transcription</th>\n",
       "      <th>gender</th>\n",
       "      <th>lang_id</th>\n",
       "      <th>language</th>\n",
       "      <th>lang_group_id</th>\n",
       "    </tr>\n",
       "  </thead>\n",
       "  <tbody>\n",
       "    <tr>\n",
       "      <th>0</th>\n",
       "      <td>766</td>\n",
       "      <td>72960</td>\n",
       "      <td>/Users/anshulwadhawan/.cache/huggingface/datas...</td>\n",
       "      <td>{'path': 'train/10010386886416577453.wav', 'ar...</td>\n",
       "      <td>families met kinders is nie 'n algemene versky...</td>\n",
       "      <td>Families met kinders is nie ‘n algemene versky...</td>\n",
       "      <td>1</td>\n",
       "      <td>0</td>\n",
       "      <td>Afrikaans</td>\n",
       "      <td>3</td>\n",
       "    </tr>\n",
       "    <tr>\n",
       "      <th>1</th>\n",
       "      <td>22</td>\n",
       "      <td>52320</td>\n",
       "      <td>/Users/anshulwadhawan/.cache/huggingface/datas...</td>\n",
       "      <td>{'path': 'train/10017360593491868518.wav', 'ar...</td>\n",
       "      <td>hsieh het ook geredeneer dat die fotogeniese m...</td>\n",
       "      <td>Hsieh het ook geredeneer dat die fotogeniese M...</td>\n",
       "      <td>1</td>\n",
       "      <td>0</td>\n",
       "      <td>Afrikaans</td>\n",
       "      <td>3</td>\n",
       "    </tr>\n",
       "    <tr>\n",
       "      <th>2</th>\n",
       "      <td>361</td>\n",
       "      <td>182400</td>\n",
       "      <td>/Users/anshulwadhawan/.cache/huggingface/datas...</td>\n",
       "      <td>{'path': 'train/10020081195348097870.wav', 'ar...</td>\n",
       "      <td>die volgende prent toon die atome wat protone ...</td>\n",
       "      <td>Die volgende prent toon die atome wat protone ...</td>\n",
       "      <td>1</td>\n",
       "      <td>0</td>\n",
       "      <td>Afrikaans</td>\n",
       "      <td>3</td>\n",
       "    </tr>\n",
       "    <tr>\n",
       "      <th>3</th>\n",
       "      <td>1340</td>\n",
       "      <td>242880</td>\n",
       "      <td>/Users/anshulwadhawan/.cache/huggingface/datas...</td>\n",
       "      <td>{'path': 'train/10020481472273143178.wav', 'ar...</td>\n",
       "      <td>dit was op hierdie tyd dat die oordrag van die...</td>\n",
       "      <td>Dit was op hierdie tyd dat die oordrag van die...</td>\n",
       "      <td>0</td>\n",
       "      <td>0</td>\n",
       "      <td>Afrikaans</td>\n",
       "      <td>3</td>\n",
       "    </tr>\n",
       "    <tr>\n",
       "      <th>4</th>\n",
       "      <td>1469</td>\n",
       "      <td>66240</td>\n",
       "      <td>/Users/anshulwadhawan/.cache/huggingface/datas...</td>\n",
       "      <td>{'path': 'train/10050183618291444534.wav', 'ar...</td>\n",
       "      <td>gosling en stone het nominasies vir onderskeid...</td>\n",
       "      <td>Gosling en Stone het nominasies vir, onderskei...</td>\n",
       "      <td>1</td>\n",
       "      <td>0</td>\n",
       "      <td>Afrikaans</td>\n",
       "      <td>3</td>\n",
       "    </tr>\n",
       "  </tbody>\n",
       "</table>\n",
       "</div>"
      ],
      "text/plain": [
       "     id  num_samples                                               path  \\\n",
       "0   766        72960  /Users/anshulwadhawan/.cache/huggingface/datas...   \n",
       "1    22        52320  /Users/anshulwadhawan/.cache/huggingface/datas...   \n",
       "2   361       182400  /Users/anshulwadhawan/.cache/huggingface/datas...   \n",
       "3  1340       242880  /Users/anshulwadhawan/.cache/huggingface/datas...   \n",
       "4  1469        66240  /Users/anshulwadhawan/.cache/huggingface/datas...   \n",
       "\n",
       "                                               audio  \\\n",
       "0  {'path': 'train/10010386886416577453.wav', 'ar...   \n",
       "1  {'path': 'train/10017360593491868518.wav', 'ar...   \n",
       "2  {'path': 'train/10020081195348097870.wav', 'ar...   \n",
       "3  {'path': 'train/10020481472273143178.wav', 'ar...   \n",
       "4  {'path': 'train/10050183618291444534.wav', 'ar...   \n",
       "\n",
       "                                       transcription  \\\n",
       "0  families met kinders is nie 'n algemene versky...   \n",
       "1  hsieh het ook geredeneer dat die fotogeniese m...   \n",
       "2  die volgende prent toon die atome wat protone ...   \n",
       "3  dit was op hierdie tyd dat die oordrag van die...   \n",
       "4  gosling en stone het nominasies vir onderskeid...   \n",
       "\n",
       "                                   raw_transcription  gender  lang_id  \\\n",
       "0  Families met kinders is nie ‘n algemene versky...       1        0   \n",
       "1  Hsieh het ook geredeneer dat die fotogeniese M...       1        0   \n",
       "2  Die volgende prent toon die atome wat protone ...       1        0   \n",
       "3  Dit was op hierdie tyd dat die oordrag van die...       0        0   \n",
       "4  Gosling en Stone het nominasies vir, onderskei...       1        0   \n",
       "\n",
       "    language  lang_group_id  \n",
       "0  Afrikaans              3  \n",
       "1  Afrikaans              3  \n",
       "2  Afrikaans              3  \n",
       "3  Afrikaans              3  \n",
       "4  Afrikaans              3  "
      ]
     },
     "execution_count": 11,
     "metadata": {},
     "output_type": "execute_result"
    }
   ],
   "source": [
    "df.head()"
   ]
  },
  {
   "cell_type": "code",
   "execution_count": 10,
   "metadata": {},
   "outputs": [],
   "source": [
    "# set up the BLEU score calculation\n",
    "weights = (0.25, 0.25, 0.25, 0.25)  # uniform weights for 1-gram to 4-gram\n",
    "smooth_func = bleu.SmoothingFunction().method1  # use smoothing method 1\n"
   ]
  },
  {
   "cell_type": "code",
   "execution_count": 12,
   "metadata": {},
   "outputs": [],
   "source": [
    "# define a function to calculate BLEU scores for each row\n",
    "def calculate_bleu(row):\n",
    "    # get the relevant columns\n",
    "    ref = row['raw_transcription']\n",
    "    candidate = row['transcription']\n",
    "    # calculate the BLEU score\n",
    "    bleu_score = bleu.sentence_bleu([ref.split()], candidate.split(), weights, smoothing_function=smooth_func)\n",
    "    return bleu_score\n"
   ]
  },
  {
   "cell_type": "code",
   "execution_count": 13,
   "metadata": {},
   "outputs": [],
   "source": [
    "# apply the function to the dataframe and create a new column for the BLEU scores\n",
    "df['bleu_score'] = df.apply(calculate_bleu, axis=1)"
   ]
  },
  {
   "cell_type": "code",
   "execution_count": 19,
   "metadata": {},
   "outputs": [
    {
     "data": {
      "text/html": [
       "<div>\n",
       "<style scoped>\n",
       "    .dataframe tbody tr th:only-of-type {\n",
       "        vertical-align: middle;\n",
       "    }\n",
       "\n",
       "    .dataframe tbody tr th {\n",
       "        vertical-align: top;\n",
       "    }\n",
       "\n",
       "    .dataframe thead th {\n",
       "        text-align: right;\n",
       "    }\n",
       "</style>\n",
       "<table border=\"1\" class=\"dataframe\">\n",
       "  <thead>\n",
       "    <tr style=\"text-align: right;\">\n",
       "      <th></th>\n",
       "      <th>bleu_score</th>\n",
       "      <th>raw_transcription</th>\n",
       "      <th>transcription</th>\n",
       "    </tr>\n",
       "  </thead>\n",
       "  <tbody>\n",
       "    <tr>\n",
       "      <th>0</th>\n",
       "      <td>0.563258</td>\n",
       "      <td>Families met kinders is nie ‘n algemene versky...</td>\n",
       "      <td>families met kinders is nie 'n algemene versky...</td>\n",
       "    </tr>\n",
       "    <tr>\n",
       "      <th>1</th>\n",
       "      <td>0.578357</td>\n",
       "      <td>Hsieh het ook geredeneer dat die fotogeniese M...</td>\n",
       "      <td>hsieh het ook geredeneer dat die fotogeniese m...</td>\n",
       "    </tr>\n",
       "    <tr>\n",
       "      <th>2</th>\n",
       "      <td>0.724551</td>\n",
       "      <td>Die volgende prent toon die atome wat protone ...</td>\n",
       "      <td>die volgende prent toon die atome wat protone ...</td>\n",
       "    </tr>\n",
       "    <tr>\n",
       "      <th>3</th>\n",
       "      <td>0.573742</td>\n",
       "      <td>Dit was op hierdie tyd dat die oordrag van die...</td>\n",
       "      <td>dit was op hierdie tyd dat die oordrag van die...</td>\n",
       "    </tr>\n",
       "    <tr>\n",
       "      <th>4</th>\n",
       "      <td>0.039074</td>\n",
       "      <td>Gosling en Stone het nominasies vir, onderskei...</td>\n",
       "      <td>gosling en stone het nominasies vir onderskeid...</td>\n",
       "    </tr>\n",
       "  </tbody>\n",
       "</table>\n",
       "</div>"
      ],
      "text/plain": [
       "   bleu_score                                  raw_transcription  \\\n",
       "0    0.563258  Families met kinders is nie ‘n algemene versky...   \n",
       "1    0.578357  Hsieh het ook geredeneer dat die fotogeniese M...   \n",
       "2    0.724551  Die volgende prent toon die atome wat protone ...   \n",
       "3    0.573742  Dit was op hierdie tyd dat die oordrag van die...   \n",
       "4    0.039074  Gosling en Stone het nominasies vir, onderskei...   \n",
       "\n",
       "                                       transcription  \n",
       "0  families met kinders is nie 'n algemene versky...  \n",
       "1  hsieh het ook geredeneer dat die fotogeniese m...  \n",
       "2  die volgende prent toon die atome wat protone ...  \n",
       "3  dit was op hierdie tyd dat die oordrag van die...  \n",
       "4  gosling en stone het nominasies vir onderskeid...  "
      ]
     },
     "execution_count": 19,
     "metadata": {},
     "output_type": "execute_result"
    }
   ],
   "source": [
    "df[['bleu_score', 'raw_transcription', 'transcription']].head()"
   ]
  },
  {
   "cell_type": "code",
   "execution_count": null,
   "metadata": {},
   "outputs": [],
   "source": []
  }
 ],
 "metadata": {
  "kernelspec": {
   "display_name": "cenv",
   "language": "python",
   "name": "python3"
  },
  "language_info": {
   "codemirror_mode": {
    "name": "ipython",
    "version": 3
   },
   "file_extension": ".py",
   "mimetype": "text/x-python",
   "name": "python",
   "nbconvert_exporter": "python",
   "pygments_lexer": "ipython3",
   "version": "3.9.16"
  },
  "orig_nbformat": 4
 },
 "nbformat": 4,
 "nbformat_minor": 2
}
