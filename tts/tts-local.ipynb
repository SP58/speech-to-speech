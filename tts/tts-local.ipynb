{
 "cells": [
  {
   "cell_type": "code",
   "execution_count": 4,
   "metadata": {},
   "outputs": [],
   "source": [
    "# import wave\n",
    "# import torch\n",
    "import time\n",
    "import threading\n",
    "from TTS.api import TTS\n",
    "# import requests\n",
    "# import sounddevice as sd\n",
    "# import json\n",
    "# from IPython.display import Audio\n",
    "# from playsound import playsound\n",
    "import pygame\n",
    "# import numpy as np\n",
    "# import os\n",
    "import queue\n",
    "# from pydub import AudioSegment\n",
    "# import os"
   ]
  },
  {
   "cell_type": "code",
   "execution_count": 20,
   "metadata": {},
   "outputs": [
    {
     "data": {
      "text/plain": [
       "['tts_models/multilingual/multi-dataset/your_tts',\n",
       " 'tts_models/bg/cv/vits',\n",
       " 'tts_models/cs/cv/vits',\n",
       " 'tts_models/da/cv/vits',\n",
       " 'tts_models/et/cv/vits',\n",
       " 'tts_models/ga/cv/vits',\n",
       " 'tts_models/en/ek1/tacotron2',\n",
       " 'tts_models/en/ljspeech/tacotron2-DDC',\n",
       " 'tts_models/en/ljspeech/tacotron2-DDC_ph',\n",
       " 'tts_models/en/ljspeech/glow-tts',\n",
       " 'tts_models/en/ljspeech/speedy-speech',\n",
       " 'tts_models/en/ljspeech/tacotron2-DCA',\n",
       " 'tts_models/en/ljspeech/vits',\n",
       " 'tts_models/en/ljspeech/vits--neon',\n",
       " 'tts_models/en/ljspeech/fast_pitch',\n",
       " 'tts_models/en/ljspeech/overflow',\n",
       " 'tts_models/en/ljspeech/neural_hmm',\n",
       " 'tts_models/en/vctk/vits',\n",
       " 'tts_models/en/vctk/fast_pitch',\n",
       " 'tts_models/en/sam/tacotron-DDC',\n",
       " 'tts_models/en/blizzard2013/capacitron-t2-c50',\n",
       " 'tts_models/en/blizzard2013/capacitron-t2-c150_v2',\n",
       " 'tts_models/es/mai/tacotron2-DDC',\n",
       " 'tts_models/es/css10/vits',\n",
       " 'tts_models/fr/mai/tacotron2-DDC',\n",
       " 'tts_models/fr/css10/vits',\n",
       " 'tts_models/uk/mai/glow-tts',\n",
       " 'tts_models/uk/mai/vits',\n",
       " 'tts_models/zh-CN/baker/tacotron2-DDC-GST',\n",
       " 'tts_models/nl/mai/tacotron2-DDC',\n",
       " 'tts_models/nl/css10/vits',\n",
       " 'tts_models/de/thorsten/tacotron2-DCA',\n",
       " 'tts_models/de/thorsten/vits',\n",
       " 'tts_models/de/thorsten/tacotron2-DDC',\n",
       " 'tts_models/de/css10/vits-neon',\n",
       " 'tts_models/ja/kokoro/tacotron2-DDC',\n",
       " 'tts_models/tr/common-voice/glow-tts',\n",
       " 'tts_models/it/mai_female/glow-tts',\n",
       " 'tts_models/it/mai_female/vits',\n",
       " 'tts_models/it/mai_male/glow-tts',\n",
       " 'tts_models/it/mai_male/vits',\n",
       " 'tts_models/ewe/openbible/vits',\n",
       " 'tts_models/hau/openbible/vits',\n",
       " 'tts_models/lin/openbible/vits',\n",
       " 'tts_models/tw_akuapem/openbible/vits',\n",
       " 'tts_models/tw_asante/openbible/vits',\n",
       " 'tts_models/yor/openbible/vits',\n",
       " 'tts_models/hu/css10/vits',\n",
       " 'tts_models/el/cv/vits',\n",
       " 'tts_models/fi/css10/vits',\n",
       " 'tts_models/hr/cv/vits',\n",
       " 'tts_models/lt/cv/vits',\n",
       " 'tts_models/lv/cv/vits',\n",
       " 'tts_models/mt/cv/vits',\n",
       " 'tts_models/pl/mai_female/vits',\n",
       " 'tts_models/pt/cv/vits',\n",
       " 'tts_models/ro/cv/vits',\n",
       " 'tts_models/sk/cv/vits',\n",
       " 'tts_models/sl/cv/vits',\n",
       " 'tts_models/sv/cv/vits',\n",
       " 'tts_models/ca/custom/vits',\n",
       " 'tts_models/fa/custom/glow-tts']"
      ]
     },
     "execution_count": 20,
     "metadata": {},
     "output_type": "execute_result"
    }
   ],
   "source": [
    "TTS.list_models()"
   ]
  },
  {
   "cell_type": "code",
   "execution_count": 21,
   "metadata": {},
   "outputs": [
    {
     "name": "stdout",
     "output_type": "stream",
     "text": [
      " > Downloading model to /Users/anshulwadhawan/Library/Application Support/tts/tts_models--en--ek1--tacotron2\n"
     ]
    },
    {
     "name": "stderr",
     "output_type": "stream",
     "text": [
      "100%|██████████| 347M/347M [06:39<00:00, 869kiB/s]  \n"
     ]
    },
    {
     "name": "stdout",
     "output_type": "stream",
     "text": [
      " > Model's license - apache 2.0\n",
      " > Check https://choosealicense.com/licenses/apache-2.0/ for more info.\n",
      " > Downloading model to /Users/anshulwadhawan/Library/Application Support/tts/vocoder_models--en--ek1--wavegrad\n"
     ]
    },
    {
     "name": "stderr",
     "output_type": "stream",
     "text": [
      "  1%|          | 2.21M/190M [00:01<01:15, 2.50MiB/s]"
     ]
    }
   ],
   "source": [
    "#Coqui TTS\n",
    "# tts = TTS(model_name=\"tts_models/multilingual/multi-dataset/your_tts\", progress_bar=False, gpu=False)\n",
    "\n",
    "tts = TTS(model_name='tts_models/en/ek1/tacotron2', progress_bar=True, gpu=False)"
   ]
  },
  {
   "cell_type": "code",
   "execution_count": 3,
   "metadata": {},
   "outputs": [],
   "source": [
    "#Eleven Labs\n",
    "url = \"https://api.elevenlabs.io/v1/text-to-speech/TxGEqnHWrfWFTfGW9XjX\"\n",
    "headers = {\n",
    "    \"xi-api-key\": \"ff79eb4ad43bb12b04a3968a5b92125b\"\n",
    "}"
   ]
  },
  {
   "cell_type": "code",
   "execution_count": 11,
   "metadata": {},
   "outputs": [],
   "source": [
    "text =\"A muffin is an individually portioned baked product, however the term can refer to one of two distinct items: a part-raised flatbread that is baked and then cooked on a griddle, or a quickbread that is chemically leavened and then baked in a mold.\"\n",
    "text_small = \"Muffin is a baked item, either a flatbread cooked on griddle or a quickbread leavened chemically and baked in a mold.\"\n",
    "text_hi = \"Hi\""
   ]
  },
  {
   "cell_type": "code",
   "execution_count": 16,
   "metadata": {},
   "outputs": [],
   "source": [
    "q = queue.Queue()\n",
    "done = False\n",
    "# pygame.mixer.init()\n",
    "\n",
    "def streaming_write(sentence):\n",
    "    for word in sentence.split():\n",
    "        with open(\"streaming_input.txt\", \"a\") as file:\n",
    "            file.write(word+\" \")\n",
    "        time.sleep(0.2)\n",
    "\n",
    "def convert_to_audio(chunk, name):\n",
    "    # samples = tts.synthesize(chunk, speaker)\n",
    "    # with wave.open(\"outputs/example\"+ str(name) +\".wav\", \"w\") as fp:\n",
    "    #     fp.setparams((1, 2, 24000, len(samples), \"NONE\", \"NONE\"))\n",
    "    #     fp.writeframes(samples)\n",
    "\n",
    "    filepath = \"outputs/example\"+ str(name) +\".wav\"\n",
    "    start = time.time()\n",
    "    # tts.tts_to_file(chunk, speaker=tts.speakers[0], language=\"en\", file_path=filepath)\n",
    "    tts.tts_to_file(chunk, file_path=filepath)\n",
    "\n",
    "    # data = {\n",
    "    #     \"text\": chunk,\n",
    "    #     \"voice_settings\": {\n",
    "    #         \"stability\": 0,\n",
    "    #         \"similarity_boost\": 0\n",
    "    #     }\n",
    "    # }\n",
    "\n",
    "    # response = requests.post(url, data=json.dumps(data), headers=headers)\n",
    "\n",
    "    # if response.status_code == 200:\n",
    "    #     with open(filepath, 'wb') as f:\n",
    "    #         f.write(response.content)\n",
    "    # else:\n",
    "    #     print(\"Error\")\n",
    "\n",
    "    # pygame.mixer.music.load(filepath)\n",
    "    # pygame.mixer.music.play()\n",
    "    # while pygame.mixer.music.get_busy():\n",
    "    #     # pygame.time.Clock().tick(10)\n",
    "    #     continue\n",
    "\n",
    "    end = time.time()\n",
    "    print(end-start)\n",
    "    q.put(filepath)\n",
    "    \n",
    "def streamingTTS():\n",
    "    content=\"\"\n",
    "    while True:\n",
    "        with open(\"streaming_input.txt\", \"r\") as file:\n",
    "            new_content = file.read()\n",
    "            print(len(content), len(new_content))\n",
    "            if len(new_content) > len(content):\n",
    "                convert_to_audio(new_content[len(content):], len(new_content))\n",
    "                content = new_content\n",
    "            else:\n",
    "                done = True\n",
    "                break\n",
    "        # time.sleep(0.3)\n",
    "\n",
    "def audioplayer():\n",
    "    pygame.mixer.init()\n",
    "    while not done:\n",
    "        while not q.empty():\n",
    "            filepath = q.get()\n",
    "            pygame.mixer.music.load(filepath)\n",
    "            pygame.mixer.music.play()\n",
    "            while pygame.mixer.music.get_busy():\n",
    "                continue\n"
   ]
  },
  {
   "cell_type": "code",
   "execution_count": 17,
   "metadata": {},
   "outputs": [],
   "source": [
    "write_thread = threading.Thread(target=streaming_write, args = (text,) )\n",
    "write_thread.start()\n",
    "\n",
    "# write_thread = threading.Thread(target=streaming_write, args = (text_small,) )\n",
    "# write_thread.start()"
   ]
  },
  {
   "cell_type": "code",
   "execution_count": 18,
   "metadata": {},
   "outputs": [],
   "source": [
    "player_thread = threading.Thread(target=audioplayer)\n",
    "player_thread.start()"
   ]
  },
  {
   "cell_type": "code",
   "execution_count": 19,
   "metadata": {},
   "outputs": [
    {
     "name": "stdout",
     "output_type": "stream",
     "text": [
      "0 38\n",
      " > Text splitted to sentences.\n",
      "['A muffin is an individually portioned']\n"
     ]
    },
    {
     "name": "stdout",
     "output_type": "stream",
     "text": [
      "ə mʌfən ɪz ən ɪndɪvɪd͡ʒuəli pɔɹʃənd\n",
      " [!] Character '͡' not found in the vocabulary. Discarding it.\n"
     ]
    },
    {
     "name": "stderr",
     "output_type": "stream",
     "text": [
      "[W NNPACK.cpp:53] Could not initialize NNPACK! Reason: Unsupported hardware.\n"
     ]
    },
    {
     "name": "stdout",
     "output_type": "stream",
     "text": [
      " > Processing time: 12.655647993087769\n",
      " > Real-time factor: 4.30749935551348\n",
      "12.706302165985107\n",
      "38 248\n",
      " > Text splitted to sentences.\n",
      "['baked product, however the term can refer to one of two distinct items: a part-raised flatbread that is baked and then cooked on a griddle, or a quickbread that is chemically leavened and then baked in a mold.']\n",
      " > Processing time: 10.236576080322266\n",
      " > Real-time factor: 0.7767899020259965\n",
      "10.311808824539185\n",
      "248 248\n"
     ]
    }
   ],
   "source": [
    "tts_thread = threading.Thread(target=streamingTTS)\n",
    "tts_thread.start()"
   ]
  },
  {
   "cell_type": "code",
   "execution_count": null,
   "metadata": {},
   "outputs": [],
   "source": []
  },
  {
   "cell_type": "code",
   "execution_count": null,
   "metadata": {},
   "outputs": [],
   "source": []
  }
 ],
 "metadata": {
  "kernelspec": {
   "display_name": "Python 3 (ipykernel)",
   "language": "python",
   "name": "python3"
  },
  "language_info": {
   "codemirror_mode": {
    "name": "ipython",
    "version": 3
   },
   "file_extension": ".py",
   "mimetype": "text/x-python",
   "name": "python",
   "nbconvert_exporter": "python",
   "pygments_lexer": "ipython3",
   "version": "3.9.16"
  }
 },
 "nbformat": 4,
 "nbformat_minor": 2
}
