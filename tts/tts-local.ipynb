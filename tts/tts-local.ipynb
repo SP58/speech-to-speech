{
 "cells": [
  {
   "cell_type": "code",
   "execution_count": 3,
   "metadata": {},
   "outputs": [],
   "source": [
    "# import wave\n",
    "# import torch\n",
    "import time\n",
    "import threading\n",
    "from TTS.api import TTS\n",
    "# import requests\n",
    "import sounddevice as sd\n",
    "# import json\n",
    "# from IPython.display import Audio\n",
    "# from playsound import playsound\n",
    "# import pygame\n",
    "# import numpy as np\n",
    "# import os\n",
    "import queue\n",
    "# from pydub import AudioSegment\n",
    "# import os"
   ]
  },
  {
   "cell_type": "code",
   "execution_count": 4,
   "metadata": {},
   "outputs": [
    {
     "name": "stdout",
     "output_type": "stream",
     "text": [
      " > Downloading model to /Users/anshulwadhawan/Library/Application Support/tts/tts_models--en--ljspeech--vits\n"
     ]
    }
   ],
   "source": [
    "#Coqui TTS\n",
    "# tts = TTS(model_name=\"tts_models/multilingual/multi-dataset/your_tts\", progress_bar=False, gpu=False)\n",
    "\n",
    "tts = TTS(model_name=\"tts_models/en/ljspeech/vits\", progress_bar=False, gpu=False)"
   ]
  },
  {
   "cell_type": "code",
   "execution_count": 3,
   "metadata": {},
   "outputs": [],
   "source": [
    "#Eleven Labs\n",
    "url = \"https://api.elevenlabs.io/v1/text-to-speech/TxGEqnHWrfWFTfGW9XjX\"\n",
    "headers = {\n",
    "    \"xi-api-key\": \"ff79eb4ad43bb12b04a3968a5b92125b\"\n",
    "}"
   ]
  },
  {
   "cell_type": "code",
   "execution_count": 3,
   "metadata": {},
   "outputs": [],
   "source": [
    "text =\"A muffin is an individually portioned baked product, however the term can refer to one of two distinct items: a part-raised flatbread that is baked and then cooked on a griddle, or a quickbread that is chemically leavened and then baked in a mold.\"\n",
    "text_small = \"Muffin is a baked item, either a flatbread cooked on griddle or a quickbread leavened chemically and baked in a mold.\"\n",
    "text_hi = \"Hi\""
   ]
  },
  {
   "cell_type": "code",
   "execution_count": 8,
   "metadata": {},
   "outputs": [],
   "source": [
    "q = queue.Queue()\n",
    "done = False\n",
    "# pygame.mixer.init()\n",
    "\n",
    "def streaming_write(sentence):\n",
    "    for word in sentence.split():\n",
    "        with open(\"streaming_input.txt\", \"a\") as file:\n",
    "            file.write(word+\" \")\n",
    "        time.sleep(0.2)\n",
    "\n",
    "def convert_to_audio(chunk, name):\n",
    "    # samples = tts.synthesize(chunk, speaker)\n",
    "    # with wave.open(\"outputs/example\"+ str(name) +\".wav\", \"w\") as fp:\n",
    "    #     fp.setparams((1, 2, 24000, len(samples), \"NONE\", \"NONE\"))\n",
    "    #     fp.writeframes(samples)\n",
    "\n",
    "    filepath = \"outputs/example\"+ str(name) +\".wav\"\n",
    "    start = time.time()\n",
    "    tts.tts_to_file(chunk, speaker=tts.speakers[0], language=\"en\", file_path=filepath)\n",
    "    # data = {\n",
    "    #     \"text\": chunk,\n",
    "    #     \"voice_settings\": {\n",
    "    #         \"stability\": 0,\n",
    "    #         \"similarity_boost\": 0\n",
    "    #     }\n",
    "    # }\n",
    "\n",
    "    # response = requests.post(url, data=json.dumps(data), headers=headers)\n",
    "\n",
    "    # if response.status_code == 200:\n",
    "    #     with open(filepath, 'wb') as f:\n",
    "    #         f.write(response.content)\n",
    "    # else:\n",
    "    #     print(\"Error\")\n",
    "\n",
    "    # pygame.mixer.music.load(filepath)\n",
    "    # pygame.mixer.music.play()\n",
    "    # while pygame.mixer.music.get_busy():\n",
    "    #     # pygame.time.Clock().tick(10)\n",
    "    #     continue\n",
    "\n",
    "    end = time.time()\n",
    "    print(end-start)\n",
    "    q.put(filepath)\n",
    "    \n",
    "def streamingTTS():\n",
    "    content=\"\"\n",
    "    while True:\n",
    "        with open(\"streaming_input.txt\", \"r\") as file:\n",
    "            new_content = file.read()\n",
    "            print(len(content), len(new_content))\n",
    "            if len(new_content) > len(content):\n",
    "                convert_to_audio(new_content[len(content):], len(new_content))\n",
    "                content = new_content\n",
    "            else:\n",
    "                done = True\n",
    "                break\n",
    "        # time.sleep(0.3)\n",
    "\n",
    "def audioplayer():\n",
    "    pygame.mixer.init()\n",
    "    while not done:\n",
    "        while not q.empty():\n",
    "            filepath = q.get()\n",
    "            pygame.mixer.music.load(filepath)\n",
    "            pygame.mixer.music.play()\n",
    "            while pygame.mixer.music.get_busy():\n",
    "                continue\n"
   ]
  },
  {
   "cell_type": "code",
   "execution_count": 9,
   "metadata": {},
   "outputs": [],
   "source": [
    "write_thread = threading.Thread(target=streaming_write, args = (text,) )\n",
    "write_thread.start()\n",
    "\n",
    "# write_thread = threading.Thread(target=streaming_write, args = (text_small,) )\n",
    "# write_thread.start()"
   ]
  },
  {
   "cell_type": "code",
   "execution_count": 10,
   "metadata": {},
   "outputs": [],
   "source": [
    "player_thread = threading.Thread(target=audioplayer)\n",
    "player_thread.start()"
   ]
  },
  {
   "cell_type": "code",
   "execution_count": 11,
   "metadata": {},
   "outputs": [
    {
     "name": "stdout",
     "output_type": "stream",
     "text": [
      "0 12\n",
      " > Text splitted to sentences.\n",
      "['A muffin is']\n"
     ]
    },
    {
     "name": "stdout",
     "output_type": "stream",
     "text": [
      " > Processing time: 6.867577791213989\n",
      " > Real-time factor: 4.28955514754153\n",
      "6.932184219360352\n",
      "12 181\n",
      " > Text splitted to sentences.\n",
      "['an individually portioned baked product, however the term can refer to one of two distinct items: a part-raised flatbread that is baked and then cooked on a griddle, or']\n",
      " > Processing time: 2.310619831085205\n",
      " > Real-time factor: 0.2136100426259781\n",
      "2.4083380699157715\n",
      "181 248\n",
      " > Text splitted to sentences.\n",
      "['a quickbread that is chemically leavened and then baked in a mold.']\n",
      " > Processing time: 0.9408981800079346\n",
      " > Real-time factor: 0.21855939140718575\n",
      "0.9485330581665039\n",
      "248 248\n"
     ]
    }
   ],
   "source": [
    "tts_thread = threading.Thread(target=streamingTTS)\n",
    "tts_thread.start()"
   ]
  },
  {
   "cell_type": "code",
   "execution_count": null,
   "metadata": {},
   "outputs": [],
   "source": []
  },
  {
   "cell_type": "code",
   "execution_count": null,
   "metadata": {},
   "outputs": [],
   "source": []
  }
 ],
 "metadata": {
  "kernelspec": {
   "display_name": "Python 3 (ipykernel)",
   "language": "python",
   "name": "python3"
  },
  "language_info": {
   "codemirror_mode": {
    "name": "ipython",
    "version": 3
   },
   "file_extension": ".py",
   "mimetype": "text/x-python",
   "name": "python",
   "nbconvert_exporter": "python",
   "pygments_lexer": "ipython3",
   "version": "3.9.16"
  }
 },
 "nbformat": 4,
 "nbformat_minor": 2
}
