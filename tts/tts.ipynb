{
 "cells": [
  {
   "cell_type": "code",
   "execution_count": null,
   "metadata": {},
   "outputs": [
    {
     "ename": "",
     "evalue": "",
     "output_type": "error",
     "traceback": [
      "\u001b[1;31mFailed to start the Kernel. \n",
      "\u001b[1;31mOSError: [Errno 122] Disk quota exceeded. \n",
      "\u001b[1;31mView Jupyter <a href='command:jupyter.viewOutput'>log</a> for further details."
     ]
    }
   ],
   "source": [
    "import wave\n",
    "from balacoon_tts import TTS\n",
    "import time\n",
    "import threading\n",
    "from TTS.api import TTS"
   ]
  },
  {
   "cell_type": "code",
   "execution_count": 110,
   "metadata": {},
   "outputs": [
    {
     "name": "stdout",
     "output_type": "stream",
     "text": [
      "\n"
     ]
    }
   ],
   "source": [
    "!export PYTHONPATH=\"/nlp/data/awadhawan/s2st/translatotron2/tts\"\n",
    "!echo $PYTHONPATH"
   ]
  },
  {
   "cell_type": "code",
   "execution_count": 91,
   "metadata": {},
   "outputs": [],
   "source": [
    "# Balacoon TTS\n",
    "tts = TTS(\"models/en_us_hifi92_e2ept.addon\")\n",
    "supported_speakers = tts.get_speakers()\n",
    "speaker = supported_speakers[-1] if supported_speakers else \"\"\n",
    "print(supported_speakers)\n"
   ]
  },
  {
   "cell_type": "code",
   "execution_count": 116,
   "metadata": {},
   "outputs": [
    {
     "ename": "TypeError",
     "evalue": "'module' object is not callable",
     "output_type": "error",
     "traceback": [
      "\u001b[0;31m---------------------------------------------------------------------------\u001b[0m",
      "\u001b[0;31mTypeError\u001b[0m                                 Traceback (most recent call last)",
      "Cell \u001b[0;32mIn[116], line 2\u001b[0m\n\u001b[1;32m      1\u001b[0m \u001b[39m#Coqui TTS\u001b[39;00m\n\u001b[0;32m----> 2\u001b[0m tts \u001b[39m=\u001b[39m TTS(model_name\u001b[39m=\u001b[39;49m\u001b[39m\"\u001b[39;49m\u001b[39mtts_models/multilingual/multi-dataset/your_tts\u001b[39;49m\u001b[39m\"\u001b[39;49m, progress_bar\u001b[39m=\u001b[39;49m\u001b[39mFalse\u001b[39;49;00m, gpu\u001b[39m=\u001b[39;49m\u001b[39mTrue\u001b[39;49;00m)\n",
      "\u001b[0;31mTypeError\u001b[0m: 'module' object is not callable"
     ]
    }
   ],
   "source": [
    "#Coqui TTS\n",
    "tts = TTS(model_name=\"tts_models/multilingual/multi-dataset/your_tts\", progress_bar=False, gpu=True)\n"
   ]
  },
  {
   "cell_type": "code",
   "execution_count": 92,
   "metadata": {},
   "outputs": [],
   "source": [
    "text =\"A muffin is an individually portioned baked product, however the term can refer to one of two distinct items: a part-raised flatbread (like a crumpet) that is baked and then cooked on a griddle (typically unsweetened), or a (often sweetened) quickbread that is chemically leavened and then baked in a mold.\""
   ]
  },
  {
   "cell_type": "code",
   "execution_count": 93,
   "metadata": {},
   "outputs": [],
   "source": [
    "def streaming_write(sentence):\n",
    "    for word in sentence.split():\n",
    "        with open(\"streaming_input.txt\", \"a\") as file:\n",
    "            file.write(word+\" \")\n",
    "        time.sleep(0.2)"
   ]
  },
  {
   "cell_type": "code",
   "execution_count": 95,
   "metadata": {},
   "outputs": [],
   "source": [
    "write_thread = threading.Thread(target=streaming_write, args = (text,) )\n",
    "write_thread.start()"
   ]
  },
  {
   "cell_type": "code",
   "execution_count": 96,
   "metadata": {},
   "outputs": [],
   "source": [
    "def convert_to_audio(chunk, name, speaker):\n",
    "    # samples = tts.synthesize(chunk, speaker)\n",
    "    # with wave.open(\"outputs/example\"+ str(name) +\".wav\", \"w\") as fp:\n",
    "    #     fp.setparams((1, 2, 24000, len(samples), \"NONE\", \"NONE\"))\n",
    "    #     fp.writeframes(samples)\n",
    "    tts.tts_to_file(chunk, speaker_wav=\"my/cloning/audio.wav\", language=\"en\", file_path=\"outputs/example\"+ str(name) +\".wav\")\n",
    "\n",
    "        \n",
    "def streamingTTS():\n",
    "    content=\"\"\n",
    "    while True:\n",
    "        with open(\"streaming_input.txt\", \"r\") as file:\n",
    "            new_content = file.read()\n",
    "            print(len(content), len(new_content))\n",
    "            if len(new_content) > len(content):\n",
    "                convert_to_audio(new_content[len(content):], len(new_content), speaker)\n",
    "                content = new_content\n",
    "            else:\n",
    "                break\n",
    "        time.sleep(1.2)\n"
   ]
  },
  {
   "cell_type": "code",
   "execution_count": 97,
   "metadata": {},
   "outputs": [
    {
     "name": "stdout",
     "output_type": "stream",
     "text": [
      "0 15\n"
     ]
    },
    {
     "name": "stdout",
     "output_type": "stream",
     "text": [
      "15 65\n",
      "65 90\n",
      "90 134\n",
      "134 165\n",
      "165 194\n",
      "194 242\n",
      "242 285\n",
      "285 307\n",
      "307 307\n"
     ]
    }
   ],
   "source": [
    "tts_thread = threading.Thread(target=streamingTTS)\n",
    "tts_thread.start()"
   ]
  },
  {
   "cell_type": "code",
   "execution_count": null,
   "metadata": {},
   "outputs": [],
   "source": []
  }
 ],
 "metadata": {
  "kernelspec": {
   "display_name": "Python 3",
   "language": "python",
   "name": "python3"
  },
  "language_info": {
   "codemirror_mode": {
    "name": "ipython",
    "version": 3
   },
   "file_extension": ".py",
   "mimetype": "text/x-python",
   "name": "python",
   "nbconvert_exporter": "python",
   "pygments_lexer": "ipython3",
   "version": "3.9.15"
  },
  "orig_nbformat": 4
 },
 "nbformat": 4,
 "nbformat_minor": 2
}
